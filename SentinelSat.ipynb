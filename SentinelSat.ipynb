{
 "cells": [
  {
   "cell_type": "code",
   "execution_count": 443,
   "id": "b0a710be",
   "metadata": {},
   "outputs": [
    {
     "name": "stdout",
     "output_type": "stream",
     "text": [
      "Enter password: ········\n"
     ]
    }
   ],
   "source": [
    "#import modules \n",
    "from sentinelsat import SentinelAPI, read_geojson, geojson_to_wkt\n",
    "from datetime import date\n",
    "import getpass\n",
    "import pandas as pd\n",
    "import json\n",
    "import random\n",
    "from ipyleaflet import Map, GeoJSON, LegendControl,Marker, Popup\n",
    "import geopandas\n",
    "import matplotlib.pyplot as plt\n",
    "from shapely import wkt\n",
    "from ipywidgets import HTML\n",
    "from ipyleaflet import Map, basemaps, basemap_to_tiles, DrawControl\n",
    "import ipywidgets as widgets\n",
    "#request for pSSWORD\n",
    "password = getpass.getpass(\"Enter password: \")\n",
    "# connect to the API\n",
    "api = SentinelAPI('benasp', password, 'https://apihub.copernicus.eu/apihub')\n",
    "\n",
    "# download single scene by known product id\n",
    "#api.download(<product_id>)"
   ]
  },
  {
   "cell_type": "code",
   "execution_count": 451,
   "id": "c38f369b",
   "metadata": {},
   "outputs": [
    {
     "data": {
      "application/vnd.jupyter.widget-view+json": {
       "model_id": "d4c16be632164a5cb4cffec23165ff32",
       "version_major": 2,
       "version_minor": 0
      },
      "text/plain": [
       "DatePicker(value=None, description='From')"
      ]
     },
     "metadata": {},
     "output_type": "display_data"
    },
    {
     "data": {
      "application/vnd.jupyter.widget-view+json": {
       "model_id": "240fbc6a359b46ab9cffcba287858913",
       "version_major": 2,
       "version_minor": 0
      },
      "text/plain": [
       "DatePicker(value=None, description='To')"
      ]
     },
     "metadata": {},
     "output_type": "display_data"
    },
    {
     "data": {
      "application/vnd.jupyter.widget-view+json": {
       "model_id": "8f75c18ff8984afe9b1403c4e0adb6e2",
       "version_major": 2,
       "version_minor": 0
      },
      "text/plain": [
       "Map(center=[50.6252978589571, 0.34580993652344], controls=(ZoomControl(options=['position', 'zoom_in_text', 'z…"
      ]
     },
     "metadata": {},
     "output_type": "display_data"
    }
   ],
   "source": [
    "#create a map where user creates a polygon for search area\n",
    "from ipyleaflet import Map, basemaps, basemap_to_tiles, DrawControl\n",
    "\n",
    "m =  Map(center=(50.6252978589571, 0.34580993652344), zoom=3)\n",
    "\n",
    "draw_control = DrawControl()\n",
    "draw_control.polyline =  {\n",
    "    \"shapeOptions\": {\n",
    "        \"color\": \"#6bc2e5\",\n",
    "        \"weight\": 8,\n",
    "        \"opacity\": 1.0\n",
    "    }\n",
    "\n",
    "}\n",
    "draw_control.rectangle = {\n",
    "    \"shapeOptions\": {\n",
    "        \"fillColor\": \"#fca45d\",\n",
    "        \"color\": \"#fca45d\",\n",
    "        \"fillOpacity\": 1.0\n",
    "    }\n",
    "}\n",
    "# \n",
    "feature_collection = {\n",
    "    'type': 'FeatureCollection',\n",
    "    'features': []\n",
    "}\n",
    "# handle drawn polygon\n",
    "def handle_draw(self, action, geo_json):\n",
    "    \"\"\"Do something with the GeoJSON when it's drawn on the map\"\"\"    \n",
    "    feature_collection['features'].append(geo_json)\n",
    "\n",
    "draw_control.on_draw(handle_draw)\n",
    "\n",
    "m.add_control(draw_control)\n",
    "\n",
    "#add datepicker widgets\n",
    "dateFrom=widgets.DatePicker(\n",
    "    description='From',\n",
    "    disabled=False\n",
    ")\n",
    "\n",
    "dateTo=widgets.DatePicker(\n",
    "    description='To',\n",
    "    disabled=False\n",
    ")\n",
    "display(dateFrom)\n",
    "display(dateTo)\n",
    "m"
   ]
  },
  {
   "cell_type": "code",
   "execution_count": 452,
   "id": "4fab9073",
   "metadata": {},
   "outputs": [],
   "source": [
    "#create geojson with drawn polygon\n",
    "from geojson import  FeatureCollection, dump\n",
    "feature_collection = FeatureCollection(feature_collection)\n",
    "with open('myfile.geojson', 'w') as file:\n",
    "    dump(feature_collection, file)\n"
   ]
  },
  {
   "cell_type": "code",
   "execution_count": 453,
   "id": "3c210da2",
   "metadata": {},
   "outputs": [
    {
     "name": "stdout",
     "output_type": "stream",
     "text": [
      "33 Products found in requested area\n",
      "**********\n"
     ]
    }
   ],
   "source": [
    "# search by polygon, time, and Hub query keywords\n",
    "footprint = geojson_to_wkt(read_geojson('myfile.geojson'))\n",
    "products = api.query(footprint,\n",
    "                     date = ((dateFrom.value), (dateTo.value)),\n",
    "                     platformname = 'Sentinel-1')\n",
    "                     #cloudcoverpercentage = (0, 30))\n",
    "\n",
    "DataFrame= pd.DataFrame(products)\n",
    "print(len(DataFrame.columns),\"Products found in requested area\")\n",
    "print ('**********')\n",
    "# for item in products:\n",
    "#     print(products[item]['title'])\n",
    "#     print(products[item]['summary'])\n",
    "#     print(products[item]['footprint'])\n",
    "products_df = api.to_dataframe(products)\n",
    "#rename fotprint column to geometry \n",
    "df2 = products_df.rename({'footprint': 'geometry'}, axis=1)\n",
    "# apply wkt\n",
    "df2['geometry'] = df2['geometry'].apply(wkt.loads)\n",
    "#add to gepandas\n",
    "gdf = geopandas.GeoDataFrame(df2, geometry='geometry')\n",
    "#save search results in geojson\n",
    "gdf.to_file(\"search.geojson\", driver='GeoJSON')"
   ]
  },
  {
   "cell_type": "code",
   "execution_count": 454,
   "id": "290d0ae9",
   "metadata": {},
   "outputs": [
    {
     "data": {
      "application/vnd.jupyter.widget-view+json": {
       "model_id": "3ade32d24c494b0bbd51cf4f3b311834",
       "version_major": 2,
       "version_minor": 0
      },
      "text/plain": [
       "Map(center=[50.6252978589571, 0.34580993652344], controls=(ZoomControl(options=['position', 'zoom_in_text', 'z…"
      ]
     },
     "metadata": {},
     "output_type": "display_data"
    }
   ],
   "source": [
    "#plot serch results on map\n",
    "with open('search.geojson', 'r') as f:\n",
    "    data = json.load(f)\n",
    "    \n",
    "\n",
    "\n",
    "def random_color(feature):\n",
    "    return {\n",
    "        'color': 'black',\n",
    "        'fillColor': random.choice(['red', 'yellow', 'green', 'orange']),\n",
    "    }\n",
    "\n",
    "m = Map(center=(50.6252978589571, 0.34580993652344), zoom=3)\n",
    "\n",
    "geo_json = GeoJSON(\n",
    "    data=data,\n",
    "    style={\n",
    "        'opacity': 1, 'dashArray': '9', 'fillOpacity': 0.1, 'weight': 1\n",
    "    },\n",
    "    hover_style={\n",
    "        'color': 'white', 'dashArray': '0', 'fillOpacity': 0.5\n",
    "    },\n",
    "    style_callback=random_color\n",
    ")\n",
    "\n",
    "m.add_layer(geo_json)\n",
    "\n",
    "\n",
    "\n",
    "m"
   ]
  },
  {
   "cell_type": "code",
   "execution_count": 361,
   "id": "a2101d6c",
   "metadata": {},
   "outputs": [
    {
     "ename": "AttributeError",
     "evalue": "'DataFrame' object has no attribute 'on_hover'",
     "output_type": "error",
     "traceback": [
      "\u001b[1;31m---------------------------------------------------------------------------\u001b[0m",
      "\u001b[1;31mAttributeError\u001b[0m                            Traceback (most recent call last)",
      "\u001b[1;32m<ipython-input-361-987937ea6cd8>\u001b[0m in \u001b[0;36m<module>\u001b[1;34m\u001b[0m\n\u001b[0;32m      6\u001b[0m      \u001b[0mhtml\u001b[0m\u001b[1;33m.\u001b[0m\u001b[0mvalue\u001b[0m \u001b[1;33m=\u001b[0m \u001b[1;34m\"\"\u001b[0m\u001b[1;33m\u001b[0m\u001b[1;33m\u001b[0m\u001b[0m\n\u001b[0;32m      7\u001b[0m \u001b[1;33m\u001b[0m\u001b[0m\n\u001b[1;32m----> 8\u001b[1;33m \u001b[0mproducts_df\u001b[0m\u001b[1;33m.\u001b[0m\u001b[0mon_hover\u001b[0m\u001b[1;33m(\u001b[0m\u001b[0mupdate_html\u001b[0m\u001b[1;33m)\u001b[0m\u001b[1;33m\u001b[0m\u001b[1;33m\u001b[0m\u001b[0m\n\u001b[0m",
      "\u001b[1;32m~\\.conda\\envs\\RS\\lib\\site-packages\\pandas\\core\\generic.py\u001b[0m in \u001b[0;36m__getattr__\u001b[1;34m(self, name)\u001b[0m\n\u001b[0;32m   5485\u001b[0m         ):\n\u001b[0;32m   5486\u001b[0m             \u001b[1;32mreturn\u001b[0m \u001b[0mself\u001b[0m\u001b[1;33m[\u001b[0m\u001b[0mname\u001b[0m\u001b[1;33m]\u001b[0m\u001b[1;33m\u001b[0m\u001b[1;33m\u001b[0m\u001b[0m\n\u001b[1;32m-> 5487\u001b[1;33m         \u001b[1;32mreturn\u001b[0m \u001b[0mobject\u001b[0m\u001b[1;33m.\u001b[0m\u001b[0m__getattribute__\u001b[0m\u001b[1;33m(\u001b[0m\u001b[0mself\u001b[0m\u001b[1;33m,\u001b[0m \u001b[0mname\u001b[0m\u001b[1;33m)\u001b[0m\u001b[1;33m\u001b[0m\u001b[1;33m\u001b[0m\u001b[0m\n\u001b[0m\u001b[0;32m   5488\u001b[0m \u001b[1;33m\u001b[0m\u001b[0m\n\u001b[0;32m   5489\u001b[0m     \u001b[1;32mdef\u001b[0m \u001b[0m__setattr__\u001b[0m\u001b[1;33m(\u001b[0m\u001b[0mself\u001b[0m\u001b[1;33m,\u001b[0m \u001b[0mname\u001b[0m\u001b[1;33m:\u001b[0m \u001b[0mstr\u001b[0m\u001b[1;33m,\u001b[0m \u001b[0mvalue\u001b[0m\u001b[1;33m)\u001b[0m \u001b[1;33m->\u001b[0m \u001b[1;32mNone\u001b[0m\u001b[1;33m:\u001b[0m\u001b[1;33m\u001b[0m\u001b[1;33m\u001b[0m\u001b[0m\n",
      "\u001b[1;31mAttributeError\u001b[0m: 'DataFrame' object has no attribute 'on_hover'"
     ]
    }
   ],
   "source": []
  },
  {
   "cell_type": "code",
   "execution_count": 309,
   "id": "c92aa618",
   "metadata": {},
   "outputs": [
    {
     "ename": "SyntaxError",
     "evalue": "invalid syntax (<ipython-input-309-aede2468d370>, line 6)",
     "output_type": "error",
     "traceback": [
      "\u001b[1;36m  File \u001b[1;32m\"<ipython-input-309-aede2468d370>\"\u001b[1;36m, line \u001b[1;32m6\u001b[0m\n\u001b[1;33m    legend = LegendControl({style_callback=random_color}, name=\"\", position=\"bottomright\")\u001b[0m\n\u001b[1;37m                                          ^\u001b[0m\n\u001b[1;31mSyntaxError\u001b[0m\u001b[1;31m:\u001b[0m invalid syntax\n"
     ]
    }
   ],
   "source": [
    "from ipyleaflet import Map, LegendControl\n",
    "\n",
    "m = Map(center=(-10,-45), zoom=4)\n",
    "#legend.add_legend_element(\"el5\",\"#000\")\n",
    "legend.legends={\"el1\":\"#FAA\", \"el2\":\"#A55\", \"el3\":\"#500\"} \n",
    "legend = LegendControl({\"\":\"\", \"\":\"\", \"\":\"\"}, name=\"\", position=\"bottomright\")\n",
    "m.add_control(legend)\n",
    "\n",
    "for item in products:\n",
    "    (products[item]['title'])\n",
    "    legend.add_legend_element((products[item]['title']),\"#000\")\n",
    "\n",
    "m"
   ]
  },
  {
   "cell_type": "code",
   "execution_count": 330,
   "id": "3cf7639a",
   "metadata": {},
   "outputs": [
    {
     "name": "stdout",
     "output_type": "stream",
     "text": [
      "POINT (-2.472348187865667 51.29440500587649)\n",
      "POINT (-2.472348187865667 51.29440500587649)\n",
      "POINT (-2.472348187865667 51.29440500587649)\n",
      "POINT (-2.472348187865667 51.29440500587649)\n",
      "POINT (-2.472348187865667 51.29440500587649)\n",
      "POINT (-2.472348187865667 51.29440500587649)\n",
      "POINT (-2.472348187865667 51.29440500587649)\n"
     ]
    }
   ],
   "source": [
    "for markeroc in gdf['geometry'].centroid:\n",
    "    print(item)\n"
   ]
  },
  {
   "cell_type": "code",
   "execution_count": 433,
   "id": "dec72a6f",
   "metadata": {},
   "outputs": [
    {
     "data": {
      "application/vnd.jupyter.widget-view+json": {
       "model_id": "45d19fe8af704ee5afca795bdd40024d",
       "version_major": 2,
       "version_minor": 0
      },
      "text/plain": [
       "DatePicker(value=None, description='From')"
      ]
     },
     "metadata": {},
     "output_type": "display_data"
    },
    {
     "data": {
      "application/vnd.jupyter.widget-view+json": {
       "model_id": "2ff186ba921241e186761afd8fd4db0a",
       "version_major": 2,
       "version_minor": 0
      },
      "text/plain": [
       "DatePicker(value=None, description='To')"
      ]
     },
     "metadata": {},
     "output_type": "display_data"
    },
    {
     "data": {
      "application/vnd.jupyter.widget-view+json": {
       "model_id": "324f5948ba6b48398122b045342cb5ee",
       "version_major": 2,
       "version_minor": 0
      },
      "text/plain": [
       "Map(center=[50.6252978589571, 0.34580993652344], controls=(ZoomControl(options=['position', 'zoom_in_text', 'z…"
      ]
     },
     "metadata": {},
     "output_type": "display_data"
    }
   ],
   "source": [
    "from ipyleaflet import Map, basemaps, basemap_to_tiles, DrawControl\n",
    "\n",
    "\n",
    "\n",
    "m =  Map(center=(50.6252978589571, 0.34580993652344), zoom=3)\n",
    "\n",
    "draw_control = DrawControl()\n",
    "draw_control.polyline =  {\n",
    "    \"shapeOptions\": {\n",
    "        \"color\": \"#6bc2e5\",\n",
    "        \"weight\": 8,\n",
    "        \"opacity\": 1.0\n",
    "    }\n",
    "}\n",
    "draw_control.polygon = {\n",
    "    \"shapeOptions\": {\n",
    "        \"fillColor\": \"#6be5c3\",\n",
    "        \"color\": \"#6be5c3\",\n",
    "        \"fillOpacity\": 1.0\n",
    "    },\n",
    "    \"drawError\": {\n",
    "        \"color\": \"#dd253b\",\n",
    "        \"message\": \"Oups!\"\n",
    "    },\n",
    "    \"allowIntersection\": False\n",
    "}\n",
    "draw_control.circle = {\n",
    "    \"shapeOptions\": {\n",
    "        \"fillColor\": \"#efed69\",\n",
    "        \"color\": \"#efed69\",\n",
    "        \"fillOpacity\": 1.0\n",
    "    }\n",
    "}\n",
    "draw_control.rectangle = {\n",
    "    \"shapeOptions\": {\n",
    "        \"fillColor\": \"#fca45d\",\n",
    "        \"color\": \"#fca45d\",\n",
    "        \"fillOpacity\": 1.0\n",
    "    }\n",
    "}\n",
    "\n",
    "feature_collection = {\n",
    "    'type': 'FeatureCollection',\n",
    "    'features': []\n",
    "}\n",
    "def handle_draw(self, action, geo_json):\n",
    "    \"\"\"Do something with the GeoJSON when it's drawn on the map\"\"\"    \n",
    "    feature_collection['features'].append(geo_json)\n",
    "\n",
    "draw_control.on_draw(handle_draw)\n",
    "\n",
    "m.add_control(draw_control)\n",
    "import ipywidgets as widgets\n",
    "\n",
    "dateFrom=widgets.DatePicker(\n",
    "    description='From',\n",
    "    disabled=False\n",
    ")\n",
    "\n",
    "dateTo=widgets.DatePicker(\n",
    "    description='To',\n",
    "    disabled=False\n",
    ")\n",
    "display(dateFrom)\n",
    "display(dateTo)\n",
    "m"
   ]
  },
  {
   "cell_type": "code",
   "execution_count": 432,
   "id": "efe2e751",
   "metadata": {},
   "outputs": [
    {
     "data": {
      "application/vnd.jupyter.widget-view+json": {
       "model_id": "939e19577c184e619aa03ea33daadbe5",
       "version_major": 2,
       "version_minor": 0
      },
      "text/plain": [
       "DatePicker(value=None, description='Pick a Date')"
      ]
     },
     "metadata": {},
     "output_type": "display_data"
    }
   ],
   "source": []
  }
 ],
 "metadata": {
  "kernelspec": {
   "display_name": "Python 3",
   "language": "python",
   "name": "python3"
  },
  "language_info": {
   "codemirror_mode": {
    "name": "ipython",
    "version": 3
   },
   "file_extension": ".py",
   "mimetype": "text/x-python",
   "name": "python",
   "nbconvert_exporter": "python",
   "pygments_lexer": "ipython3",
   "version": "3.7.10"
  }
 },
 "nbformat": 4,
 "nbformat_minor": 5
}
