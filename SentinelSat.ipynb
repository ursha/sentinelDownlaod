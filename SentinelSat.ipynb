{
 "cells": [
  {
   "cell_type": "code",
   "execution_count": 369,
   "id": "b0a710be",
   "metadata": {},
   "outputs": [],
   "source": [
    "#import modules \n",
    "from sentinelsat import SentinelAPI, read_geojson, geojson_to_wkt\n",
    "from datetime import date\n",
    "import getpass\n",
    "import pandas as pd\n",
    "import json\n",
    "import random\n",
    "from ipyleaflet import Map, GeoJSON, LegendControl,Marker, Popup\n",
    "import geopandas\n",
    "import matplotlib.pyplot as plt\n",
    "from shapely import wkt\n",
    "from ipywidgets import HTML\n",
    "from ipyleaflet import Map, basemaps, basemap_to_tiles, DrawControl"
   ]
  },
  {
   "cell_type": "code",
   "execution_count": 399,
   "id": "cfce3da6",
   "metadata": {},
   "outputs": [
    {
     "data": {
      "application/vnd.jupyter.widget-view+json": {
       "model_id": "a59fdb0850854fb38b671ca7357b7f51",
       "version_major": 2,
       "version_minor": 0
      },
      "text/plain": [
       "Map(center=[50.6252978589571, 0.34580993652344], controls=(ZoomControl(options=['position', 'zoom_in_text', 'z…"
      ]
     },
     "metadata": {},
     "output_type": "display_data"
    }
   ],
   "source": [
    "#create a map where user creates a polygon for search area\n",
    "from ipyleaflet import Map, basemaps, basemap_to_tiles, DrawControl\n",
    "\n",
    "\n",
    "\n",
    "m =  Map(center=(50.6252978589571, 0.34580993652344), zoom=3)\n",
    "\n",
    "draw_control = DrawControl()\n",
    "draw_control.polyline =  {\n",
    "    \"shapeOptions\": {\n",
    "        \"color\": \"#6bc2e5\",\n",
    "        \"weight\": 8,\n",
    "        \"opacity\": 1.0\n",
    "    }\n",
    "\n",
    "}\n",
    "draw_control.rectangle = {\n",
    "    \"shapeOptions\": {\n",
    "        \"fillColor\": \"#fca45d\",\n",
    "        \"color\": \"#fca45d\",\n",
    "        \"fillOpacity\": 1.0\n",
    "    }\n",
    "}\n",
    "# \n",
    "feature_collection = {\n",
    "    'type': 'FeatureCollection',\n",
    "    'features': []\n",
    "}\n",
    "# handle drawn polygon\n",
    "def handle_draw(self, action, geo_json):\n",
    "    \"\"\"Do something with the GeoJSON when it's drawn on the map\"\"\"    \n",
    "    feature_collection['features'].append(geo_json)\n",
    "\n",
    "draw_control.on_draw(handle_draw)\n",
    "\n",
    "m.add_control(draw_control)\n",
    "\n",
    "m"
   ]
  },
  {
   "cell_type": "code",
   "execution_count": 401,
   "id": "cc0eae81",
   "metadata": {},
   "outputs": [],
   "source": [
    "from geojson import  FeatureCollection, dump\n",
    "feature_collection = FeatureCollection(feature_collection)\n",
    "with open('myfile.geojson', 'w') as f:\n",
    "   dump(feature_collection, f)"
   ]
  },
  {
   "cell_type": "code",
   "execution_count": 389,
   "id": "d25aaa8c",
   "metadata": {},
   "outputs": [
    {
     "name": "stdout",
     "output_type": "stream",
     "text": [
      "Enter password: ········\n"
     ]
    }
   ],
   "source": [
    "#request for pSSWORD\n",
    "password = getpass.getpass(\"Enter password: \")\n",
    "# connect to the API\n",
    "api = SentinelAPI('benasp', password, 'https://apihub.copernicus.eu/apihub')\n",
    "\n",
    "# download single scene by known product id\n",
    "#api.download(<product_id>)"
   ]
  },
  {
   "cell_type": "code",
   "execution_count": 402,
   "id": "f6dc7578",
   "metadata": {},
   "outputs": [
    {
     "name": "stdout",
     "output_type": "stream",
     "text": [
      "25 Products found in requested area\n",
      "**********\n"
     ]
    }
   ],
   "source": [
    "# search by polygon, time, and Hub query keywords\n",
    "footprint = geojson_to_wkt(read_geojson('myfile.geojson'))\n",
    "products = api.query(footprint,\n",
    "                     date = ('20210801', date(2021, 8, 2)),\n",
    "                     platformname = 'Sentinel-1')\n",
    "                     #cloudcoverpercentage = (0, 30))\n",
    "\n",
    "DataFrame= pd.DataFrame(products)\n",
    "print(len(DataFrame.columns),\"Products found in requested area\")\n",
    "print ('**********')\n",
    "# for item in products:\n",
    "#     print(products[item]['title'])\n",
    "#     print(products[item]['summary'])\n",
    "#     print(products[item]['footprint'])\n",
    "products_df = api.to_dataframe(products)\n",
    "#rename fotprint column to geometry \n",
    "df2 = products_df.rename({'footprint': 'geometry'}, axis=1)\n",
    "# apply wkt\n",
    "df2['geometry'] = df2['geometry'].apply(wkt.loads)\n",
    "#add to gepandas\n",
    "gdf = geopandas.GeoDataFrame(df2, geometry='geometry')\n",
    "#save search results in geojson\n",
    "gdf.to_file(\"search.geojson\", driver='GeoJSON')"
   ]
  },
  {
   "cell_type": "code",
   "execution_count": 351,
   "id": "919bea6f",
   "metadata": {},
   "outputs": [
    {
     "name": "stdout",
     "output_type": "stream",
     "text": [
      "S1B_EW_GRDM_1SSH_20210801T005544_20210801T005648_028045_03586F_59DF\n",
      "Date: 2021-08-01T00:55:44.204Z, Instrument: SAR-C SAR, Mode: HH, Satellite: Sentinel-1, Size: 220.07 MB\n",
      "MULTIPOLYGON (((-72.007812 -71.325569, -63.302246 -69.028114, -69.754471 -65.94632, -77.817986 -67.951836, -72.007812 -71.325569)))\n",
      "S1A_EW_GRDM_1SSH_20210801T063246_20210801T063346_039032_049B01_4E22\n",
      "Date: 2021-08-01T06:32:46.822Z, Instrument: SAR-C SAR, Mode: HH, Satellite: Sentinel-1, Size: 212.26 MB\n",
      "MULTIPOLYGON (((-42.767059 -72.7929, -36.510181 -69.723022, -45.198967 -67.510307, -51.99757 -70.265167, -42.767059 -72.7929)))\n",
      "S1A_EW_GRDM_1SSH_20210801T063346_20210801T063446_039032_049B01_3732\n",
      "Date: 2021-08-01T06:33:46.823Z, Instrument: SAR-C SAR, Mode: HH, Satellite: Sentinel-1, Size: 212.23 MB\n",
      "MULTIPOLYGON (((-51.439102 -75.6035, -42.76778 -72.79319, -51.999077 -70.265167, -60.742138 -72.689041, -51.439102 -75.6035)))\n",
      "S1A_EW_GRDM_1SSH_20210801T231036_20210801T231141_039042_049B55_C558\n",
      "Date: 2021-08-01T23:10:36.704Z, Instrument: SAR-C SAR, Mode: HH, Satellite: Sentinel-1, Size: 223.08 MB\n",
      "MULTIPOLYGON (((-51.579178 -67.728706, -43.445026 -65.719215, -48.370022 -62.407391, -55.811481 -64.192123, -51.579178 -67.728706)))\n",
      "S1A_EW_OCN__2SSH_20210801T231036_20210801T231141_039042_049B55_B936\n",
      "Date: 2021-08-01T23:10:36.71Z, Instrument: SAR-C SAR, Mode: HH, Satellite: Sentinel-1, Size: 35.8 MB\n",
      "MULTIPOLYGON (((-51.578983 -67.728256, -43.444733 -65.718681, -48.369278 -62.407181, -55.810917 -64.192017, -51.578983 -67.728256)))\n",
      "S1A_EW_GRDM_1SSH_20210801T231036_20210801T231141_039042_049B55_BA3F\n",
      "Date: 2021-08-01T23:10:36.704Z, Instrument: SAR-C SAR, Mode: HH, Satellite: Sentinel-1, Size: 223.08 MB\n",
      "MULTIPOLYGON (((-51.579178 -67.728706, -43.445026 -65.719215, -48.370022 -62.407391, -55.811481 -64.192123, -51.579178 -67.728706)))\n",
      "S1A_EW_RAW__0SSH_20210801T231036_20210801T231145_039042_049B55_8732\n",
      "Date: 2021-08-01T23:10:36.902Z, Instrument: SAR-C SAR, Mode: HH, Satellite: Sentinel-1, Size: 482.39 MB\n",
      "MULTIPOLYGON (((-51.1679 -67.6821, -43.0293 -65.7437, -48.3197 -62.2829, -55.7371 -63.9605, -51.1679 -67.6821)))\n",
      "S1B_WV_OCN__2SSV_20210801T065859_20210801T072144_028049_03588A_896F\n",
      "Date: 2021-08-01T06:58:59.168Z, Instrument: SAR-C SAR, Mode: VV, Satellite: Sentinel-1, Size: 65.62 MB\n",
      "MULTIPOLYGON (((-50.324642 -69.61187, -50.051514 -69.457558, -47.770702 -68.074913, -47.531914 -67.916893, -45.528622 -66.504959, -45.318268 -66.343979, -43.544933 -64.908272, -43.35857 -64.745193, -41.760338 -63.293125, -41.593311 -63.127575, -40.172344 -61.655861, -40.02206 -61.488754, -38.736702 -60.003155, -38.600464 -59.834579, -37.431381 -58.33823, -37.307064 -58.168327, -36.236187 -56.661102, -36.122173 -56.490147, -35.120487 -54.97731, -35.015373 -54.805313, -34.103439 -53.281723, -33.15826 -51.578251, -32.276009 -49.868256, -31.433958 -48.155605, -30.655897 -46.434319, -29.921148 -44.708244, -29.224701 -42.977734, -28.562746 -41.243809, -27.91782 -39.5084, -27.314009 -37.766586, -26.734938 -36.021973, -26.17837 -34.274803, -26.124144 -34.096642, -25.64179 -32.525017, -25.112186 -30.775709, -24.610777 -29.021345, -24.1243 -27.264847, -24.076632 -27.085711, -23.651567 -25.507206, -23.181498 -23.749474, -22.732391 -21.987564, -22.29357 -20.224268, -21.863934 -18.459976, -21.821468 -18.279884, -21.44264 -16.694143, -21.02158 -14.928879, -20.615051 -13.161186, -20.214573 -11.392243, -20.174713 -11.211734, -19.819611 -9.622699, -19.424109 -7.853573, -19.03874 -6.082603, -18.656918 -4.310786, -18.27832 -2.538745, -18.240273 -2.357873, -17.902473 -0.766286, -17.525902 1.005746, -17.154411 2.778619, -16.784243 4.551621, -16.414885 6.324469, -16.044788 8.096973, -15.676039 9.869779, -15.638445 10.050644, -15.820991 10.087996, -17.662771 9.535688, -17.698315 9.360486, -18.022963 7.765326, -18.058685 7.59001, -18.385178 5.995172, -18.421083 5.819933, -18.749626 4.225489, -18.785793 4.050153, -19.118143 2.456198, -19.154589 2.280919, -19.488953 0.686872, -19.525711 0.511696, -19.863613 -1.08251, -19.900763 -1.257722, -20.242382 -2.851374, -20.279932 -3.026431, -20.628096 -4.619034, -20.666136 -4.794108, -21.017101 -6.386618, -21.055677 -6.561664, -21.411789 -8.153358, -21.450947 -8.328329, -21.812857 -9.919127, -21.852659 -10.094011, -22.221025 -11.684483, -22.261435 -11.858833, -22.640104 -13.447596, -22.681297 -13.621875, -23.064329 -15.209949, -23.106449 -15.384438, -23.497711 -16.971296, -23.54068 -17.145325, -23.941109 -18.731041, -23.985184 -18.905291, -24.3997 -20.488514, -24.444843 -20.662422, -24.866156 -22.245441, -24.91251 -22.419176, -25.345396 -23.999924, -25.393066 -24.173433, -25.838762 -25.752346, -25.887909 -25.92576, -26.347673 -27.502895, -26.398407 -27.676086, -26.87892 -29.249693, -26.931377 -29.422567, -27.423409 -30.995342, -27.477751 -31.167883, -27.988169 -32.737724, -28.04459 -32.909943, -28.575272 -34.47747, -28.633959 -34.649269, -29.193111 -36.212578, -29.254295 -36.383892, -29.832092 -37.945515, -29.896078 -38.116459, -30.500868 -39.67453, -30.568012 -39.845211, -31.202673 -41.398853, -31.273214 -41.568985, -31.941105 -43.118118, -32.015446 -43.287689, -32.727753 -44.831181, -32.806438 -45.000313, -33.553169 -46.539665, -33.636646 -46.708199, -34.429821 -48.241875, -34.518661 -48.409706, -35.364368 -49.937138, -35.459236 -50.104153, -36.371445 -51.622555, -36.473225 -51.788761, -37.444935 -53.300453, -37.554543 -53.465744, -38.602558 -54.968449, -38.720951 -55.132488, -39.85601 -56.624271, -39.984661 -56.787148, -41.22023 -58.267181, -41.360466 -58.428436, -42.71875 -59.892006, -42.872669 -60.05167, -44.358017 -61.501244, -44.527615 -61.658855, -46.169674 -63.089672, -46.357834 -63.245079, -48.183296 -64.653183, -48.393215 -64.805931, -50.441307 -66.185081, -50.676762 -66.334534, -52.972523 -67.683205, -53.238434 -67.82885, -55.83593 -69.138168, -56.137749 -69.279076, -55.713821 -69.393349, -55.413284 -69.251717, -50.79747 -69.506996, -50.324642 -69.61187)))\n",
      "S1B_WV_SLC__1SSV_20210801T065859_20210801T072144_028049_03588A_1BDB\n",
      "Date: 2021-08-01T06:58:59.513Z, Instrument: SAR-C SAR, Mode: VV, Satellite: Sentinel-1, Size: 8.59 GB\n",
      "MULTIPOLYGON (((-50.324646 -69.61187, -50.051517 -69.457558, -47.770706 -68.074921, -47.531918 -67.916901, -45.528625 -66.504959, -45.318268 -66.343979, -43.544937 -64.908272, -43.35857 -64.745193, -41.760342 -63.293129, -41.593315 -63.127575, -40.172344 -61.655865, -40.022064 -61.488754, -38.736702 -60.003159, -38.600464 -59.834583, -37.431385 -58.338234, -37.307068 -58.168331, -36.236187 -56.661106, -36.122177 -56.490147, -35.120487 -54.97731, -35.015377 -54.805317, -34.103439 -53.281727, -33.158264 -51.578251, -32.276009 -49.868256, -31.43396 -48.155609, -30.655897 -46.434319, -29.921148 -44.708244, -29.224701 -42.977734, -28.562746 -41.243809, -27.91782 -39.508404, -27.314009 -37.766586, -26.734938 -36.021976, -26.17837 -34.274803, -26.124144 -34.096642, -25.641792 -32.525017, -25.112188 -30.775711, -24.610779 -29.021347, -24.1243 -27.264847, -24.076632 -27.085712, -23.651569 -25.507208, -23.181498 -23.749475, -22.732391 -21.987564, -22.293571 -20.22427, -21.863934 -18.459978, -21.821468 -18.279884, -21.44264 -16.694143, -21.02158 -14.92888, -20.615051 -13.161187, -20.214575 -11.392243, -20.174713 -11.211734, -19.819611 -9.622699, -19.424109 -7.853573, -19.038742 -6.082603, -18.656918 -4.310787, -18.27832 -2.538745, -18.240273 -2.357873, -17.902473 -0.766288, -17.525902 1.005745, -17.154411 2.77862, -16.784243 4.551621, -16.414885 6.324468, -16.044788 8.096972, -15.676039 9.869779, -15.638445 10.050644, -15.820991 10.087996, -17.662771 9.535688, -17.698315 9.360486, -18.022963 7.765326, -18.058685 7.59001, -18.385178 5.995172, -18.421083 5.819934, -18.749626 4.225489, -18.785793 4.050153, -19.118143 2.456197, -19.154589 2.280918, -19.488953 0.686873, -19.525711 0.511696, -19.863613 -1.08251, -19.900763 -1.257722, -20.242382 -2.851374, -20.279932 -3.026431, -20.628096 -4.619034, -20.666136 -4.794108, -21.017101 -6.386619, -21.055677 -6.561664, -21.411789 -8.153358, -21.450947 -8.328329, -21.812857 -9.919126, -21.852659 -10.094011, -22.221025 -11.684483, -22.261435 -11.858833, -22.640104 -13.447597, -22.681297 -13.621876, -23.064329 -15.209949, -23.106449 -15.384438, -23.497711 -16.971296, -23.54068 -17.145325, -23.941109 -18.731041, -23.985184 -18.905291, -24.3997 -20.488514, -24.444843 -20.662422, -24.866156 -22.245441, -24.91251 -22.419176, -25.345396 -23.999924, -25.393066 -24.173433, -25.838762 -25.752346, -25.887909 -25.92576, -26.347673 -27.502895, -26.398407 -27.676086, -26.87892 -29.249693, -26.931377 -29.422567, -27.423409 -30.995342, -27.477751 -31.167883, -27.988169 -32.737724, -28.044592 -32.909943, -28.575272 -34.47747, -28.633959 -34.649269, -29.193111 -36.212578, -29.254295 -36.383892, -29.832092 -37.945515, -29.896078 -38.116459, -30.500868 -39.67453, -30.56801 -39.845211, -31.202673 -41.398853, -31.273216 -41.568985, -31.941105 -43.118122, -32.015446 -43.287693, -32.727753 -44.831181, -32.806438 -45.000313, -33.553169 -46.539665, -33.636646 -46.708199, -34.429821 -48.241879, -34.518661 -48.40971, -35.364372 -49.937138, -35.459236 -50.104153, -36.371445 -51.622555, -36.473225 -51.788761, -37.444935 -53.300453, -37.554543 -53.465748, -38.602558 -54.968449, -38.720951 -55.132492, -39.85601 -56.624271, -39.984661 -56.787148, -41.220234 -58.267181, -41.360466 -58.428436, -42.71875 -59.892006, -42.872669 -60.05167, -44.358017 -61.501247, -44.527618 -61.658855, -46.169674 -63.089672, -46.357834 -63.245079, -48.1833 -64.653183, -48.393219 -64.805931, -50.441307 -66.185081, -50.676765 -66.334534, -52.972527 -67.683205, -53.238438 -67.82885, -55.83593 -69.138168, -56.137749 -69.279076, -55.713825 -69.393356, -55.413288 -69.251724, -50.797474 -69.507004, -50.324646 -69.61187)))\n",
      "S1A_EW_GRDM_1SSH_20210801T081010_20210801T081117_039033_049B0A_A3A5\n",
      "Date: 2021-08-01T08:10:10.302Z, Instrument: SAR-C SAR, Mode: HH, Satellite: Sentinel-1, Size: 236.49 MB\n",
      "MULTIPOLYGON (((-60.002533 -69.015648, -55.121231 -65.34227, -62.850895 -63.475128, -68.475494 -66.888481, -60.002533 -69.015648)))\n",
      "S1A_EW_OCN__2SSH_20210801T063346_20210801T063446_039032_049B01_E3AF\n",
      "Date: 2021-08-01T06:33:46.82Z, Instrument: SAR-C SAR, Mode: HH, Satellite: Sentinel-1, Size: 34.99 MB\n",
      "MULTIPOLYGON (((-51.440338 -75.603386, -42.768131 -72.792831, -51.998844 -70.264931, -60.742744 -72.689026, -51.440338 -75.603386)))\n",
      "S1A_EW_GRDM_1SSH_20210801T063346_20210801T063446_039032_049B01_13FF\n",
      "Date: 2021-08-01T06:33:46.823Z, Instrument: SAR-C SAR, Mode: HH, Satellite: Sentinel-1, Size: 212.23 MB\n",
      "MULTIPOLYGON (((-51.439102 -75.6035, -42.76778 -72.79319, -51.999077 -70.265167, -60.742138 -72.689041, -51.439102 -75.6035)))\n",
      "S1A_EW_OCN__2SSH_20210801T081010_20210801T081117_039033_049B0A_BB8A\n",
      "Date: 2021-08-01T08:10:10.304Z, Instrument: SAR-C SAR, Mode: HH, Satellite: Sentinel-1, Size: 38.11 MB\n",
      "MULTIPOLYGON (((-60.002907 -69.015305, -55.121922 -65.342232, -62.852287 -63.474834, -68.476524 -66.887878, -60.002907 -69.015305)))\n",
      "S1A_EW_GRDM_1SSH_20210801T063246_20210801T063346_039032_049B01_2E1A\n",
      "Date: 2021-08-01T06:32:46.822Z, Instrument: SAR-C SAR, Mode: HH, Satellite: Sentinel-1, Size: 212.26 MB\n",
      "MULTIPOLYGON (((-42.767059 -72.7929, -36.510181 -69.723022, -45.198967 -67.510307, -51.99757 -70.265167, -42.767059 -72.7929)))\n",
      "S1B_EW_GRDM_1SSH_20210801T005544_20210801T005648_028045_03586F_0671\n",
      "Date: 2021-08-01T00:55:44.204Z, Instrument: SAR-C SAR, Mode: HH, Satellite: Sentinel-1, Size: 220.07 MB\n",
      "MULTIPOLYGON (((-72.007812 -71.325569, -63.302246 -69.028114, -69.754471 -65.94632, -77.817986 -67.951836, -72.007812 -71.325569)))\n",
      "S1A_EW_OCN__2SSH_20210801T063246_20210801T063346_039032_049B01_F75B\n",
      "Date: 2021-08-01T06:32:46.821Z, Instrument: SAR-C SAR, Mode: HH, Satellite: Sentinel-1, Size: 36.21 MB\n",
      "MULTIPOLYGON (((-42.767681 -72.792648, -36.510773 -69.722794, -45.198864 -67.510223, -51.997433 -70.265083, -42.767681 -72.792648)))\n",
      "S1A_EW_RAW__0SSH_20210801T081006_20210801T081117_039033_049B0A_78BA\n",
      "Date: 2021-08-01T08:10:06.201Z, Instrument: SAR-C SAR, Mode: HH, Satellite: Sentinel-1, Size: 560.31 MB\n",
      "MULTIPOLYGON (((-60.5182 -68.9473, -55.2628 -65.0943, -62.8935 -63.3441, -68.9078 -66.9012, -60.5182 -68.9473)))\n",
      "S1A_EW_RAW__0SSH_20210801T063342_20210801T063450_039032_049B01_EEF4\n",
      "Date: 2021-08-01T06:33:42.72Z, Instrument: SAR-C SAR, Mode: HH, Satellite: Sentinel-1, Size: 484.57 MB\n",
      "MULTIPOLYGON (((-52.8807 -75.635, -42.9084 -72.4931, -51.9077 -70.0774, -61.8831 -72.7711, -52.8807 -75.635)))\n",
      "S1B_EW_OCN__2SSH_20210801T005544_20210801T005648_028045_03586F_FCB6\n",
      "Date: 2021-08-01T00:55:44.211Z, Instrument: SAR-C SAR, Mode: HH, Satellite: Sentinel-1, Size: 34.76 MB\n",
      "MULTIPOLYGON (((-72.006874 -71.324821, -63.303288 -69.02784, -69.754662 -65.946373, -77.816429 -67.951515, -72.006874 -71.324821)))\n",
      "S1A_EW_RAW__0SSH_20210801T080906_20210801T081014_039033_049B0A_2380\n",
      "Date: 2021-08-01T08:09:06.201Z, Instrument: SAR-C SAR, Mode: HH, Satellite: Sentinel-1, Size: 503.84 MB\n",
      "MULTIPOLYGON (((-55.7893 -65.5441, -51.8686 -61.7578, -58.8954 -60.2044, -63.5064 -63.7636, -55.7893 -65.5441)))\n",
      "S1A_EW_RAW__0SSH_20210801T063242_20210801T063350_039032_049B01_419C\n",
      "Date: 2021-08-01T06:32:42.72Z, Instrument: SAR-C SAR, Mode: HH, Satellite: Sentinel-1, Size: 482.99 MB\n",
      "MULTIPOLYGON (((-43.9198 -72.8923, -36.6674 -69.4474, -45.1544 -67.3557, -52.965 -70.427, -43.9198 -72.8923)))\n",
      "S1B_EW_RAW__0SSH_20210801T005644_20210801T005739_028045_03586F_C307\n",
      "Date: 2021-08-01T00:56:44.396Z, Instrument: SAR-C SAR, Mode: HH, Satellite: Sentinel-1, Size: 390.17 MB\n",
      "MULTIPOLYGON (((-77.2059 -68.1622, -68.9714 -66.1844, -73.4617 -63.4422, -81.1123 -65.1988, -77.2059 -68.1622)))\n",
      "S1B_EW_RAW__0SSH_20210801T005544_20210801T005652_028045_03586F_B7A6\n",
      "Date: 2021-08-01T00:55:44.396Z, Instrument: SAR-C SAR, Mode: HH, Satellite: Sentinel-1, Size: 537.32 MB\n",
      "MULTIPOLYGON (((-71.6658 -71.2816, -62.8434 -69.0061, -69.7032 -65.7826, -77.8504 -67.7243, -71.6658 -71.2816)))\n"
     ]
    }
   ],
   "source": [
    "# for item in products:\n",
    "#     print(products[item]['title'])\n",
    "#     print(products[item]['summary'])\n",
    "#     print(products[item]['footprint'])"
   ]
  },
  {
   "cell_type": "code",
   "execution_count": 403,
   "id": "290d0ae9",
   "metadata": {},
   "outputs": [
    {
     "data": {
      "application/vnd.jupyter.widget-view+json": {
       "model_id": "ce1ad8fca167443fb7fbc520cac73c4b",
       "version_major": 2,
       "version_minor": 0
      },
      "text/plain": [
       "Map(center=[50.6252978589571, 0.34580993652344], controls=(ZoomControl(options=['position', 'zoom_in_text', 'z…"
      ]
     },
     "metadata": {},
     "output_type": "display_data"
    }
   ],
   "source": [
    "#plot serch results on map\n",
    "with open('search.geojson', 'r') as f:\n",
    "    data = json.load(f)\n",
    "    \n",
    "\n",
    "\n",
    "def random_color(feature):\n",
    "    return {\n",
    "        'color': 'black',\n",
    "        'fillColor': random.choice(['red', 'yellow', 'green', 'orange']),\n",
    "    }\n",
    "\n",
    "m = Map(center=(50.6252978589571, 0.34580993652344), zoom=3)\n",
    "\n",
    "geo_json = GeoJSON(\n",
    "    data=data,\n",
    "    style={\n",
    "        'opacity': 1, 'dashArray': '9', 'fillOpacity': 0.1, 'weight': 1\n",
    "    },\n",
    "    hover_style={\n",
    "        'color': 'white', 'dashArray': '0', 'fillOpacity': 0.5\n",
    "    },\n",
    "    style_callback=random_color\n",
    ")\n",
    "\n",
    "m.add_layer(geo_json)\n",
    "\n",
    "\n",
    "\n",
    "m"
   ]
  },
  {
   "cell_type": "code",
   "execution_count": 361,
   "id": "a2101d6c",
   "metadata": {},
   "outputs": [
    {
     "ename": "AttributeError",
     "evalue": "'DataFrame' object has no attribute 'on_hover'",
     "output_type": "error",
     "traceback": [
      "\u001b[1;31m---------------------------------------------------------------------------\u001b[0m",
      "\u001b[1;31mAttributeError\u001b[0m                            Traceback (most recent call last)",
      "\u001b[1;32m<ipython-input-361-987937ea6cd8>\u001b[0m in \u001b[0;36m<module>\u001b[1;34m\u001b[0m\n\u001b[0;32m      6\u001b[0m      \u001b[0mhtml\u001b[0m\u001b[1;33m.\u001b[0m\u001b[0mvalue\u001b[0m \u001b[1;33m=\u001b[0m \u001b[1;34m\"\"\u001b[0m\u001b[1;33m\u001b[0m\u001b[1;33m\u001b[0m\u001b[0m\n\u001b[0;32m      7\u001b[0m \u001b[1;33m\u001b[0m\u001b[0m\n\u001b[1;32m----> 8\u001b[1;33m \u001b[0mproducts_df\u001b[0m\u001b[1;33m.\u001b[0m\u001b[0mon_hover\u001b[0m\u001b[1;33m(\u001b[0m\u001b[0mupdate_html\u001b[0m\u001b[1;33m)\u001b[0m\u001b[1;33m\u001b[0m\u001b[1;33m\u001b[0m\u001b[0m\n\u001b[0m",
      "\u001b[1;32m~\\.conda\\envs\\RS\\lib\\site-packages\\pandas\\core\\generic.py\u001b[0m in \u001b[0;36m__getattr__\u001b[1;34m(self, name)\u001b[0m\n\u001b[0;32m   5485\u001b[0m         ):\n\u001b[0;32m   5486\u001b[0m             \u001b[1;32mreturn\u001b[0m \u001b[0mself\u001b[0m\u001b[1;33m[\u001b[0m\u001b[0mname\u001b[0m\u001b[1;33m]\u001b[0m\u001b[1;33m\u001b[0m\u001b[1;33m\u001b[0m\u001b[0m\n\u001b[1;32m-> 5487\u001b[1;33m         \u001b[1;32mreturn\u001b[0m \u001b[0mobject\u001b[0m\u001b[1;33m.\u001b[0m\u001b[0m__getattribute__\u001b[0m\u001b[1;33m(\u001b[0m\u001b[0mself\u001b[0m\u001b[1;33m,\u001b[0m \u001b[0mname\u001b[0m\u001b[1;33m)\u001b[0m\u001b[1;33m\u001b[0m\u001b[1;33m\u001b[0m\u001b[0m\n\u001b[0m\u001b[0;32m   5488\u001b[0m \u001b[1;33m\u001b[0m\u001b[0m\n\u001b[0;32m   5489\u001b[0m     \u001b[1;32mdef\u001b[0m \u001b[0m__setattr__\u001b[0m\u001b[1;33m(\u001b[0m\u001b[0mself\u001b[0m\u001b[1;33m,\u001b[0m \u001b[0mname\u001b[0m\u001b[1;33m:\u001b[0m \u001b[0mstr\u001b[0m\u001b[1;33m,\u001b[0m \u001b[0mvalue\u001b[0m\u001b[1;33m)\u001b[0m \u001b[1;33m->\u001b[0m \u001b[1;32mNone\u001b[0m\u001b[1;33m:\u001b[0m\u001b[1;33m\u001b[0m\u001b[1;33m\u001b[0m\u001b[0m\n",
      "\u001b[1;31mAttributeError\u001b[0m: 'DataFrame' object has no attribute 'on_hover'"
     ]
    }
   ],
   "source": []
  },
  {
   "cell_type": "code",
   "execution_count": 309,
   "id": "315e0952",
   "metadata": {},
   "outputs": [
    {
     "ename": "SyntaxError",
     "evalue": "invalid syntax (<ipython-input-309-aede2468d370>, line 6)",
     "output_type": "error",
     "traceback": [
      "\u001b[1;36m  File \u001b[1;32m\"<ipython-input-309-aede2468d370>\"\u001b[1;36m, line \u001b[1;32m6\u001b[0m\n\u001b[1;33m    legend = LegendControl({style_callback=random_color}, name=\"\", position=\"bottomright\")\u001b[0m\n\u001b[1;37m                                          ^\u001b[0m\n\u001b[1;31mSyntaxError\u001b[0m\u001b[1;31m:\u001b[0m invalid syntax\n"
     ]
    }
   ],
   "source": [
    "from ipyleaflet import Map, LegendControl\n",
    "\n",
    "m = Map(center=(-10,-45), zoom=4)\n",
    "#legend.add_legend_element(\"el5\",\"#000\")\n",
    "legend.legends={\"el1\":\"#FAA\", \"el2\":\"#A55\", \"el3\":\"#500\"} \n",
    "legend = LegendControl({\"\":\"\", \"\":\"\", \"\":\"\"}, name=\"\", position=\"bottomright\")\n",
    "m.add_control(legend)\n",
    "\n",
    "for item in products:\n",
    "    (products[item]['title'])\n",
    "    legend.add_legend_element((products[item]['title']),\"#000\")\n",
    "\n",
    "m"
   ]
  },
  {
   "cell_type": "code",
   "execution_count": 330,
   "id": "31b2d76d",
   "metadata": {},
   "outputs": [
    {
     "name": "stdout",
     "output_type": "stream",
     "text": [
      "POINT (-2.472348187865667 51.29440500587649)\n",
      "POINT (-2.472348187865667 51.29440500587649)\n",
      "POINT (-2.472348187865667 51.29440500587649)\n",
      "POINT (-2.472348187865667 51.29440500587649)\n",
      "POINT (-2.472348187865667 51.29440500587649)\n",
      "POINT (-2.472348187865667 51.29440500587649)\n",
      "POINT (-2.472348187865667 51.29440500587649)\n"
     ]
    }
   ],
   "source": [
    "for markeroc in gdf['geometry'].centroid:\n",
    "    print(item)\n"
   ]
  },
  {
   "cell_type": "code",
   "execution_count": 367,
   "id": "e5d1b790",
   "metadata": {},
   "outputs": [
    {
     "data": {
      "application/vnd.jupyter.widget-view+json": {
       "model_id": "b0091cb4c5804f65909b141f38be5ad8",
       "version_major": 2,
       "version_minor": 0
      },
      "text/plain": [
       "Map(center=[50.6252978589571, 0.34580993652344], controls=(ZoomControl(options=['position', 'zoom_in_text', 'z…"
      ]
     },
     "metadata": {},
     "output_type": "display_data"
    }
   ],
   "source": [
    "from ipyleaflet import Map, basemaps, basemap_to_tiles, DrawControl\n",
    "\n",
    "\n",
    "\n",
    "m =  Map(center=(50.6252978589571, 0.34580993652344), zoom=3)\n",
    "\n",
    "draw_control = DrawControl()\n",
    "draw_control.polyline =  {\n",
    "    \"shapeOptions\": {\n",
    "        \"color\": \"#6bc2e5\",\n",
    "        \"weight\": 8,\n",
    "        \"opacity\": 1.0\n",
    "    }\n",
    "}\n",
    "draw_control.polygon = {\n",
    "    \"shapeOptions\": {\n",
    "        \"fillColor\": \"#6be5c3\",\n",
    "        \"color\": \"#6be5c3\",\n",
    "        \"fillOpacity\": 1.0\n",
    "    },\n",
    "    \"drawError\": {\n",
    "        \"color\": \"#dd253b\",\n",
    "        \"message\": \"Oups!\"\n",
    "    },\n",
    "    \"allowIntersection\": False\n",
    "}\n",
    "draw_control.circle = {\n",
    "    \"shapeOptions\": {\n",
    "        \"fillColor\": \"#efed69\",\n",
    "        \"color\": \"#efed69\",\n",
    "        \"fillOpacity\": 1.0\n",
    "    }\n",
    "}\n",
    "draw_control.rectangle = {\n",
    "    \"shapeOptions\": {\n",
    "        \"fillColor\": \"#fca45d\",\n",
    "        \"color\": \"#fca45d\",\n",
    "        \"fillOpacity\": 1.0\n",
    "    }\n",
    "}\n",
    "\n",
    "feature_collection = {\n",
    "    'type': 'FeatureCollection',\n",
    "    'features': []\n",
    "}\n",
    "def handle_draw(self, action, geo_json):\n",
    "    \"\"\"Do something with the GeoJSON when it's drawn on the map\"\"\"    \n",
    "    feature_collection['features'].append(geo_json)\n",
    "\n",
    "draw_control.on_draw(handle_draw)\n",
    "\n",
    "m.add_control(draw_control)\n",
    "\n",
    "m"
   ]
  },
  {
   "cell_type": "code",
   "execution_count": 368,
   "id": "fb58ef65",
   "metadata": {},
   "outputs": [
    {
     "data": {
      "text/plain": [
       "{'type': 'FeatureCollection', 'features': []}"
      ]
     },
     "execution_count": 368,
     "metadata": {},
     "output_type": "execute_result"
    }
   ],
   "source": [
    "feature_collection"
   ]
  }
 ],
 "metadata": {
  "kernelspec": {
   "display_name": "Python 3",
   "language": "python",
   "name": "python3"
  },
  "language_info": {
   "codemirror_mode": {
    "name": "ipython",
    "version": 3
   },
   "file_extension": ".py",
   "mimetype": "text/x-python",
   "name": "python",
   "nbconvert_exporter": "python",
   "pygments_lexer": "ipython3",
   "version": "3.7.10"
  }
 },
 "nbformat": 4,
 "nbformat_minor": 5
}
